{
 "cells": [
  {
   "cell_type": "markdown",
   "metadata": {},
   "source": [
    "# Using Napari to interactively visualize cell segmentation"
   ]
  },
  {
   "cell_type": "markdown",
   "metadata": {},
   "source": [
    "For a more complete version of this example, with text describing each step, please refer to the [skimage tutorials](https://github.com/scikit-image/skimage-tutorials/)."
   ]
  },
  {
   "cell_type": "code",
   "execution_count": null,
   "metadata": {},
   "outputs": [],
   "source": [
    "%matplotlib inline\n",
    "%gui qt5\n",
    "\n",
    "from matplotlib import cm\n",
    "from matplotlib import pyplot as plt\n",
    "from mpl_toolkits.mplot3d.art3d import Poly3DCollection, Line3DCollection\n",
    "\n",
    "import numpy as np\n",
    "\n",
    "from scipy import ndimage as ndi\n",
    "from scipy import stats\n",
    "\n",
    "from skimage import (exposure, feature, filters, io, measure,\n",
    "                      morphology, restoration, segmentation, transform,\n",
    "                      util)"
   ]
  },
  {
   "cell_type": "markdown",
   "metadata": {},
   "source": [
    "The cell data is a 60MB file, so it may take a while for the following to complete."
   ]
  },
  {
   "cell_type": "code",
   "execution_count": null,
   "metadata": {},
   "outputs": [],
   "source": [
    "data = io.imread(\"https://github.com/scikit-image/skimage-tutorials/raw/master/images/cells.tif\")\n",
    "\n",
    "print(\"shape: {}\".format(data.shape))\n",
    "print(\"dtype: {}\".format(data.dtype))\n",
    "print(\"range: ({}, {})\".format(data.min(), data.max()))"
   ]
  },
  {
   "cell_type": "markdown",
   "metadata": {},
   "source": [
    "We don't use the spacing information calculated below, but it's good to have in case you want to apply, e.g., a Gaussian filter:"
   ]
  },
  {
   "cell_type": "code",
   "execution_count": null,
   "metadata": {},
   "outputs": [],
   "source": [
    "# The microscope reports the following spacing\n",
    "original_spacing = np.array([0.2900000, 0.0650000, 0.0650000])\n",
    "\n",
    "# We downsampled each slice 4x to make the data smaller\n",
    "rescaled_spacing = original_spacing * [1, 4, 4]\n",
    "\n",
    "# Normalize the spacing so that pixels are a distance of 1 apart\n",
    "spacing = rescaled_spacing / rescaled_spacing[2]\n",
    "\n",
    "print(\"microscope spacing: {}\\n\".format(original_spacing))\n",
    "print(\"after rescaling images: {}\\n\".format(rescaled_spacing))\n",
    "print(\"normalized spacing: {}\\n\".format(spacing))"
   ]
  },
  {
   "cell_type": "markdown",
   "metadata": {},
   "source": [
    "After the viewer pops up, play around with the sliders at the bottom and left."
   ]
  },
  {
   "cell_type": "code",
   "execution_count": null,
   "metadata": {},
   "outputs": [],
   "source": [
    "import napari\n",
    "view = napari.view(data)"
   ]
  },
  {
   "cell_type": "markdown",
   "metadata": {},
   "source": [
    "## Exposure"
   ]
  },
  {
   "cell_type": "code",
   "execution_count": null,
   "metadata": {},
   "outputs": [],
   "source": [
    "vmin, vmax = stats.scoreatpercentile(data, (0.5, 99.5))\n",
    "\n",
    "rescaled = exposure.rescale_intensity(\n",
    "    data, \n",
    "    in_range=(vmin, vmax), \n",
    "    out_range=np.float32\n",
    ").astype(np.float32)"
   ]
  },
  {
   "cell_type": "code",
   "execution_count": null,
   "metadata": {},
   "outputs": [],
   "source": [
    "view.add_image(rescaled, name='Rescaled');"
   ]
  },
  {
   "cell_type": "markdown",
   "metadata": {},
   "source": [
    "## Edge detection"
   ]
  },
  {
   "cell_type": "code",
   "execution_count": null,
   "metadata": {},
   "outputs": [],
   "source": [
    "sobel = np.zeros_like(rescaled)\n",
    "for plane, image in enumerate(rescaled):\n",
    "    sobel[plane] = filters.sobel(image)"
   ]
  },
  {
   "cell_type": "code",
   "execution_count": null,
   "metadata": {},
   "outputs": [],
   "source": [
    "view.add_image(sobel, name='Sobel');"
   ]
  },
  {
   "cell_type": "markdown",
   "metadata": {},
   "source": [
    "## Filters"
   ]
  },
  {
   "cell_type": "code",
   "execution_count": null,
   "metadata": {},
   "outputs": [],
   "source": [
    "rescaled_uint8 = util.img_as_ubyte(rescaled)\n",
    "\n",
    "denoised = np.zeros_like(rescaled_uint8)\n",
    "\n",
    "for plane, image in enumerate(rescaled_uint8):\n",
    "    denoised[plane] = filters.median(image)\n",
    "    \n",
    "view.add_image(denoised, name='Median');"
   ]
  },
  {
   "cell_type": "markdown",
   "metadata": {},
   "source": [
    "## Thresholding"
   ]
  },
  {
   "cell_type": "code",
   "execution_count": null,
   "metadata": {},
   "outputs": [],
   "source": [
    "threshold_li = filters.threshold_li(denoised)\n",
    "li = denoised >= threshold_li\n",
    "\n",
    "threshold_otsu = filters.threshold_otsu(denoised)\n",
    "otsu = denoised >= threshold_otsu\n",
    "\n",
    "view.add_image(otsu, name='Thresholded');"
   ]
  },
  {
   "cell_type": "markdown",
   "metadata": {},
   "source": [
    "## Morphological operations"
   ]
  },
  {
   "cell_type": "code",
   "execution_count": null,
   "metadata": {},
   "outputs": [],
   "source": [
    "width = 20\n",
    "\n",
    "remove_holes = morphology.remove_small_holes(\n",
    "    otsu, \n",
    "    min_size=width ** 3\n",
    ")"
   ]
  },
  {
   "cell_type": "code",
   "execution_count": null,
   "metadata": {},
   "outputs": [],
   "source": [
    "width = 20\n",
    "\n",
    "remove_objects = morphology.remove_small_objects(\n",
    "    remove_holes, \n",
    "    min_size=width ** 3\n",
    ")"
   ]
  },
  {
   "cell_type": "code",
   "execution_count": null,
   "metadata": {},
   "outputs": [],
   "source": [
    "view.add_image(remove_objects, name='Fill and remove');"
   ]
  },
  {
   "cell_type": "markdown",
   "metadata": {},
   "source": [
    "## Segmentation"
   ]
  },
  {
   "cell_type": "code",
   "execution_count": null,
   "metadata": {},
   "outputs": [],
   "source": [
    "labels = measure.label(remove_objects)"
   ]
  },
  {
   "cell_type": "code",
   "execution_count": null,
   "metadata": {},
   "outputs": [],
   "source": [
    "view.add_labels(labels + 1, name='Initial labeling');"
   ]
  },
  {
   "cell_type": "code",
   "execution_count": null,
   "metadata": {},
   "outputs": [],
   "source": [
    "distance = ndi.distance_transform_edt(remove_objects)"
   ]
  },
  {
   "cell_type": "code",
   "execution_count": null,
   "metadata": {},
   "outputs": [],
   "source": [
    "view.add_image(distance, name='Distance map', colormap='viridis');"
   ]
  },
  {
   "cell_type": "code",
   "execution_count": null,
   "metadata": {},
   "outputs": [],
   "source": [
    "peak_local_max = feature.peak_local_max(\n",
    "    distance,\n",
    "    footprint=np.ones((15, 15, 15), dtype=np.bool),\n",
    "    indices=False,\n",
    "    labels=measure.label(remove_objects)\n",
    ")\n",
    "\n",
    "markers = measure.label(peak_local_max)"
   ]
  },
  {
   "cell_type": "code",
   "execution_count": null,
   "metadata": {},
   "outputs": [],
   "source": [
    "view.add_points(np.array(np.nonzero(markers)).T,\n",
    "                n_dimensional=True);"
   ]
  },
  {
   "cell_type": "code",
   "execution_count": null,
   "metadata": {},
   "outputs": [],
   "source": [
    "labels = morphology.watershed(\n",
    "    -distance,\n",
    "    markers,\n",
    "    mask=remove_objects\n",
    ")"
   ]
  },
  {
   "cell_type": "code",
   "execution_count": null,
   "metadata": {},
   "outputs": [],
   "source": [
    "view.add_labels(labels + 1, name='Watershed', opacity=1);"
   ]
  },
  {
   "cell_type": "markdown",
   "metadata": {},
   "source": [
    "The following segmentation isn't all that great (we started with too many markers inside a single cell).  To improve the situation, we first blur the distance map, then repeat the whole procedure:"
   ]
  },
  {
   "cell_type": "code",
   "execution_count": null,
   "metadata": {},
   "outputs": [],
   "source": [
    "distance_smooth = filters.gaussian(distance, sigma=10)\n",
    "features = feature.peak_local_max(\n",
    "    distance_smooth\n",
    ")\n",
    "markers = measure.label(features)\n",
    "\n",
    "labels = morphology.watershed(\n",
    "    -distance_smooth,\n",
    "    mask=remove_objects\n",
    ")"
   ]
  },
  {
   "cell_type": "code",
   "execution_count": null,
   "metadata": {},
   "outputs": [],
   "source": [
    "view.add_labels(labels + 1, name='Watershed (smoothed)', opacity=1);"
   ]
  }
 ],
 "metadata": {
  "kernelspec": {
   "display_name": "Python 3",
   "language": "python",
   "name": "python3"
  },
  "language_info": {
   "codemirror_mode": {
    "name": "ipython",
    "version": 3
   },
   "file_extension": ".py",
   "mimetype": "text/x-python",
   "name": "python",
   "nbconvert_exporter": "python",
   "pygments_lexer": "ipython3",
   "version": "3.7.4"
  }
 },
 "nbformat": 4,
 "nbformat_minor": 2
}
